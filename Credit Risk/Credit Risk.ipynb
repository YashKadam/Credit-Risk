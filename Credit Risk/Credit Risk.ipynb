{
 "cells": [
  {
   "cell_type": "markdown",
   "metadata": {},
   "source": [
    "### IMPORT LIBRARIES"
   ]
  },
  {
   "cell_type": "code",
   "execution_count": 29,
   "metadata": {},
   "outputs": [],
   "source": [
    "import pandas as pd\n",
    "import numpy as np\n",
    "import seaborn as sns\n",
    "import matplotlib.pyplot as plt\n",
    "import warnings\n",
    "warnings.simplefilter(\"ignore\")"
   ]
  },
  {
   "cell_type": "markdown",
   "metadata": {},
   "source": [
    "### IMPORT DATA"
   ]
  },
  {
   "cell_type": "code",
   "execution_count": 30,
   "metadata": {},
   "outputs": [],
   "source": [
    "train_data=pd.read_csv(\"train_data.csv\")\n",
    "test_data=pd.read_csv(\"test_data.csv\")\n",
    "val_data=pd.read_csv(\"validate_data.csv\")"
   ]
  },
  {
   "cell_type": "markdown",
   "metadata": {},
   "source": [
    "### TRAIN AND TEST DIMENSIONS"
   ]
  },
  {
   "cell_type": "code",
   "execution_count": 31,
   "metadata": {},
   "outputs": [
    {
     "data": {
      "text/plain": [
       "(614, 13)"
      ]
     },
     "execution_count": 31,
     "metadata": {},
     "output_type": "execute_result"
    }
   ],
   "source": [
    "train_data.shape"
   ]
  },
  {
   "cell_type": "code",
   "execution_count": 32,
   "metadata": {},
   "outputs": [
    {
     "data": {
      "text/plain": [
       "(367, 12)"
      ]
     },
     "execution_count": 32,
     "metadata": {},
     "output_type": "execute_result"
    }
   ],
   "source": [
    "test_data.shape"
   ]
  },
  {
   "cell_type": "markdown",
   "metadata": {},
   "source": [
    "### TRAIN AND TEST TOP 5 ROWS"
   ]
  },
  {
   "cell_type": "code",
   "execution_count": 33,
   "metadata": {},
   "outputs": [
    {
     "data": {
      "text/html": [
       "<div>\n",
       "<style scoped>\n",
       "    .dataframe tbody tr th:only-of-type {\n",
       "        vertical-align: middle;\n",
       "    }\n",
       "\n",
       "    .dataframe tbody tr th {\n",
       "        vertical-align: top;\n",
       "    }\n",
       "\n",
       "    .dataframe thead th {\n",
       "        text-align: right;\n",
       "    }\n",
       "</style>\n",
       "<table border=\"1\" class=\"dataframe\">\n",
       "  <thead>\n",
       "    <tr style=\"text-align: right;\">\n",
       "      <th></th>\n",
       "      <th>Loan_ID</th>\n",
       "      <th>Gender</th>\n",
       "      <th>Married</th>\n",
       "      <th>Dependents</th>\n",
       "      <th>Education</th>\n",
       "      <th>Self_Employed</th>\n",
       "      <th>ApplicantIncome</th>\n",
       "      <th>CoapplicantIncome</th>\n",
       "      <th>LoanAmount</th>\n",
       "      <th>Loan_Amount_Term</th>\n",
       "      <th>Credit_History</th>\n",
       "      <th>Property_Area</th>\n",
       "      <th>Loan_Status</th>\n",
       "    </tr>\n",
       "  </thead>\n",
       "  <tbody>\n",
       "    <tr>\n",
       "      <th>0</th>\n",
       "      <td>LP001002</td>\n",
       "      <td>Male</td>\n",
       "      <td>No</td>\n",
       "      <td>0</td>\n",
       "      <td>Graduate</td>\n",
       "      <td>No</td>\n",
       "      <td>5849</td>\n",
       "      <td>0.0</td>\n",
       "      <td>NaN</td>\n",
       "      <td>360.0</td>\n",
       "      <td>1.0</td>\n",
       "      <td>Urban</td>\n",
       "      <td>Y</td>\n",
       "    </tr>\n",
       "    <tr>\n",
       "      <th>1</th>\n",
       "      <td>LP001003</td>\n",
       "      <td>Male</td>\n",
       "      <td>Yes</td>\n",
       "      <td>1</td>\n",
       "      <td>Graduate</td>\n",
       "      <td>No</td>\n",
       "      <td>4583</td>\n",
       "      <td>1508.0</td>\n",
       "      <td>128.0</td>\n",
       "      <td>360.0</td>\n",
       "      <td>1.0</td>\n",
       "      <td>Rural</td>\n",
       "      <td>N</td>\n",
       "    </tr>\n",
       "    <tr>\n",
       "      <th>2</th>\n",
       "      <td>LP001005</td>\n",
       "      <td>Male</td>\n",
       "      <td>Yes</td>\n",
       "      <td>0</td>\n",
       "      <td>Graduate</td>\n",
       "      <td>Yes</td>\n",
       "      <td>3000</td>\n",
       "      <td>0.0</td>\n",
       "      <td>66.0</td>\n",
       "      <td>360.0</td>\n",
       "      <td>1.0</td>\n",
       "      <td>Urban</td>\n",
       "      <td>Y</td>\n",
       "    </tr>\n",
       "    <tr>\n",
       "      <th>3</th>\n",
       "      <td>LP001006</td>\n",
       "      <td>Male</td>\n",
       "      <td>Yes</td>\n",
       "      <td>0</td>\n",
       "      <td>Not Graduate</td>\n",
       "      <td>No</td>\n",
       "      <td>2583</td>\n",
       "      <td>2358.0</td>\n",
       "      <td>120.0</td>\n",
       "      <td>360.0</td>\n",
       "      <td>1.0</td>\n",
       "      <td>Urban</td>\n",
       "      <td>Y</td>\n",
       "    </tr>\n",
       "    <tr>\n",
       "      <th>4</th>\n",
       "      <td>LP001008</td>\n",
       "      <td>Male</td>\n",
       "      <td>No</td>\n",
       "      <td>0</td>\n",
       "      <td>Graduate</td>\n",
       "      <td>No</td>\n",
       "      <td>6000</td>\n",
       "      <td>0.0</td>\n",
       "      <td>141.0</td>\n",
       "      <td>360.0</td>\n",
       "      <td>1.0</td>\n",
       "      <td>Urban</td>\n",
       "      <td>Y</td>\n",
       "    </tr>\n",
       "  </tbody>\n",
       "</table>\n",
       "</div>"
      ],
      "text/plain": [
       "    Loan_ID Gender Married Dependents     Education Self_Employed  \\\n",
       "0  LP001002   Male      No          0      Graduate            No   \n",
       "1  LP001003   Male     Yes          1      Graduate            No   \n",
       "2  LP001005   Male     Yes          0      Graduate           Yes   \n",
       "3  LP001006   Male     Yes          0  Not Graduate            No   \n",
       "4  LP001008   Male      No          0      Graduate            No   \n",
       "\n",
       "   ApplicantIncome  CoapplicantIncome  LoanAmount  Loan_Amount_Term  \\\n",
       "0             5849                0.0         NaN             360.0   \n",
       "1             4583             1508.0       128.0             360.0   \n",
       "2             3000                0.0        66.0             360.0   \n",
       "3             2583             2358.0       120.0             360.0   \n",
       "4             6000                0.0       141.0             360.0   \n",
       "\n",
       "   Credit_History Property_Area Loan_Status  \n",
       "0             1.0         Urban           Y  \n",
       "1             1.0         Rural           N  \n",
       "2             1.0         Urban           Y  \n",
       "3             1.0         Urban           Y  \n",
       "4             1.0         Urban           Y  "
      ]
     },
     "execution_count": 33,
     "metadata": {},
     "output_type": "execute_result"
    }
   ],
   "source": [
    "train_data.head()"
   ]
  },
  {
   "cell_type": "code",
   "execution_count": 34,
   "metadata": {},
   "outputs": [
    {
     "data": {
      "text/html": [
       "<div>\n",
       "<style scoped>\n",
       "    .dataframe tbody tr th:only-of-type {\n",
       "        vertical-align: middle;\n",
       "    }\n",
       "\n",
       "    .dataframe tbody tr th {\n",
       "        vertical-align: top;\n",
       "    }\n",
       "\n",
       "    .dataframe thead th {\n",
       "        text-align: right;\n",
       "    }\n",
       "</style>\n",
       "<table border=\"1\" class=\"dataframe\">\n",
       "  <thead>\n",
       "    <tr style=\"text-align: right;\">\n",
       "      <th></th>\n",
       "      <th>Loan_ID</th>\n",
       "      <th>Gender</th>\n",
       "      <th>Married</th>\n",
       "      <th>Dependents</th>\n",
       "      <th>Education</th>\n",
       "      <th>Self_Employed</th>\n",
       "      <th>ApplicantIncome</th>\n",
       "      <th>CoapplicantIncome</th>\n",
       "      <th>LoanAmount</th>\n",
       "      <th>Loan_Amount_Term</th>\n",
       "      <th>Credit_History</th>\n",
       "      <th>Property_Area</th>\n",
       "    </tr>\n",
       "  </thead>\n",
       "  <tbody>\n",
       "    <tr>\n",
       "      <th>0</th>\n",
       "      <td>LP001015</td>\n",
       "      <td>Male</td>\n",
       "      <td>Yes</td>\n",
       "      <td>0</td>\n",
       "      <td>Graduate</td>\n",
       "      <td>No</td>\n",
       "      <td>5720</td>\n",
       "      <td>0</td>\n",
       "      <td>110.0</td>\n",
       "      <td>360.0</td>\n",
       "      <td>1.0</td>\n",
       "      <td>Urban</td>\n",
       "    </tr>\n",
       "    <tr>\n",
       "      <th>1</th>\n",
       "      <td>LP001022</td>\n",
       "      <td>Male</td>\n",
       "      <td>Yes</td>\n",
       "      <td>1</td>\n",
       "      <td>Graduate</td>\n",
       "      <td>No</td>\n",
       "      <td>3076</td>\n",
       "      <td>1500</td>\n",
       "      <td>126.0</td>\n",
       "      <td>360.0</td>\n",
       "      <td>1.0</td>\n",
       "      <td>Urban</td>\n",
       "    </tr>\n",
       "    <tr>\n",
       "      <th>2</th>\n",
       "      <td>LP001031</td>\n",
       "      <td>Male</td>\n",
       "      <td>Yes</td>\n",
       "      <td>2</td>\n",
       "      <td>Graduate</td>\n",
       "      <td>No</td>\n",
       "      <td>5000</td>\n",
       "      <td>1800</td>\n",
       "      <td>208.0</td>\n",
       "      <td>360.0</td>\n",
       "      <td>1.0</td>\n",
       "      <td>Urban</td>\n",
       "    </tr>\n",
       "    <tr>\n",
       "      <th>3</th>\n",
       "      <td>LP001035</td>\n",
       "      <td>Male</td>\n",
       "      <td>Yes</td>\n",
       "      <td>2</td>\n",
       "      <td>Graduate</td>\n",
       "      <td>No</td>\n",
       "      <td>2340</td>\n",
       "      <td>2546</td>\n",
       "      <td>100.0</td>\n",
       "      <td>360.0</td>\n",
       "      <td>NaN</td>\n",
       "      <td>Urban</td>\n",
       "    </tr>\n",
       "    <tr>\n",
       "      <th>4</th>\n",
       "      <td>LP001051</td>\n",
       "      <td>Male</td>\n",
       "      <td>No</td>\n",
       "      <td>0</td>\n",
       "      <td>Not Graduate</td>\n",
       "      <td>No</td>\n",
       "      <td>3276</td>\n",
       "      <td>0</td>\n",
       "      <td>78.0</td>\n",
       "      <td>360.0</td>\n",
       "      <td>1.0</td>\n",
       "      <td>Urban</td>\n",
       "    </tr>\n",
       "  </tbody>\n",
       "</table>\n",
       "</div>"
      ],
      "text/plain": [
       "    Loan_ID Gender Married Dependents     Education Self_Employed  \\\n",
       "0  LP001015   Male     Yes          0      Graduate            No   \n",
       "1  LP001022   Male     Yes          1      Graduate            No   \n",
       "2  LP001031   Male     Yes          2      Graduate            No   \n",
       "3  LP001035   Male     Yes          2      Graduate            No   \n",
       "4  LP001051   Male      No          0  Not Graduate            No   \n",
       "\n",
       "   ApplicantIncome  CoapplicantIncome  LoanAmount  Loan_Amount_Term  \\\n",
       "0             5720                  0       110.0             360.0   \n",
       "1             3076               1500       126.0             360.0   \n",
       "2             5000               1800       208.0             360.0   \n",
       "3             2340               2546       100.0             360.0   \n",
       "4             3276                  0        78.0             360.0   \n",
       "\n",
       "   Credit_History Property_Area  \n",
       "0             1.0         Urban  \n",
       "1             1.0         Urban  \n",
       "2             1.0         Urban  \n",
       "3             NaN         Urban  \n",
       "4             1.0         Urban  "
      ]
     },
     "execution_count": 34,
     "metadata": {},
     "output_type": "execute_result"
    }
   ],
   "source": [
    "test_data.head()"
   ]
  },
  {
   "cell_type": "markdown",
   "metadata": {},
   "source": [
    "### CHECKING DATATYPES OF TRAIN AND TEST DATA"
   ]
  },
  {
   "cell_type": "code",
   "execution_count": 35,
   "metadata": {},
   "outputs": [
    {
     "name": "stdout",
     "output_type": "stream",
     "text": [
      "TRAIN INFO :\n",
      "<class 'pandas.core.frame.DataFrame'>\n",
      "RangeIndex: 614 entries, 0 to 613\n",
      "Data columns (total 13 columns):\n",
      "Loan_ID              614 non-null object\n",
      "Gender               601 non-null object\n",
      "Married              611 non-null object\n",
      "Dependents           599 non-null object\n",
      "Education            614 non-null object\n",
      "Self_Employed        582 non-null object\n",
      "ApplicantIncome      614 non-null int64\n",
      "CoapplicantIncome    614 non-null float64\n",
      "LoanAmount           592 non-null float64\n",
      "Loan_Amount_Term     600 non-null float64\n",
      "Credit_History       564 non-null float64\n",
      "Property_Area        614 non-null object\n",
      "Loan_Status          614 non-null object\n",
      "dtypes: float64(4), int64(1), object(8)\n",
      "memory usage: 62.4+ KB\n",
      "None \n",
      "\n",
      "TEST INFO :\n",
      "<class 'pandas.core.frame.DataFrame'>\n",
      "RangeIndex: 367 entries, 0 to 366\n",
      "Data columns (total 12 columns):\n",
      "Loan_ID              367 non-null object\n",
      "Gender               356 non-null object\n",
      "Married              367 non-null object\n",
      "Dependents           357 non-null object\n",
      "Education            367 non-null object\n",
      "Self_Employed        344 non-null object\n",
      "ApplicantIncome      367 non-null int64\n",
      "CoapplicantIncome    367 non-null int64\n",
      "LoanAmount           362 non-null float64\n",
      "Loan_Amount_Term     361 non-null float64\n",
      "Credit_History       338 non-null float64\n",
      "Property_Area        367 non-null object\n",
      "dtypes: float64(3), int64(2), object(7)\n",
      "memory usage: 34.5+ KB\n",
      "None\n"
     ]
    }
   ],
   "source": [
    "print(\"TRAIN INFO :\")\n",
    "print(train_data.info(),\"\\n\")\n",
    "\n",
    "print(\"TEST INFO :\")\n",
    "print(test_data.info())"
   ]
  },
  {
   "cell_type": "markdown",
   "metadata": {},
   "source": [
    "### STATISTICAL INFO OF TRAIN AND TEST DATA"
   ]
  },
  {
   "cell_type": "code",
   "execution_count": 36,
   "metadata": {},
   "outputs": [
    {
     "name": "stdout",
     "output_type": "stream",
     "text": [
      "TRAIN STATISTICAL INFO:\n",
      "        ApplicantIncome  CoapplicantIncome  LoanAmount  Loan_Amount_Term  \\\n",
      "count       614.000000         614.000000  592.000000         600.00000   \n",
      "mean       5403.459283        1621.245798  146.412162         342.00000   \n",
      "std        6109.041673        2926.248369   85.587325          65.12041   \n",
      "min         150.000000           0.000000    9.000000          12.00000   \n",
      "25%        2877.500000           0.000000  100.000000         360.00000   \n",
      "50%        3812.500000        1188.500000  128.000000         360.00000   \n",
      "75%        5795.000000        2297.250000  168.000000         360.00000   \n",
      "max       81000.000000       41667.000000  700.000000         480.00000   \n",
      "\n",
      "       Credit_History  \n",
      "count      564.000000  \n",
      "mean         0.842199  \n",
      "std          0.364878  \n",
      "min          0.000000  \n",
      "25%          1.000000  \n",
      "50%          1.000000  \n",
      "75%          1.000000  \n",
      "max          1.000000   \n",
      " TEST STATISTICAL INFO:\n",
      "        ApplicantIncome  CoapplicantIncome  LoanAmount  Loan_Amount_Term  \\\n",
      "count       367.000000         367.000000  362.000000        361.000000   \n",
      "mean       4805.599455        1569.577657  136.132597        342.537396   \n",
      "std        4910.685399        2334.232099   61.366652         65.156643   \n",
      "min           0.000000           0.000000   28.000000          6.000000   \n",
      "25%        2864.000000           0.000000  100.250000        360.000000   \n",
      "50%        3786.000000        1025.000000  125.000000        360.000000   \n",
      "75%        5060.000000        2430.500000  158.000000        360.000000   \n",
      "max       72529.000000       24000.000000  550.000000        480.000000   \n",
      "\n",
      "       Credit_History  \n",
      "count      338.000000  \n",
      "mean         0.825444  \n",
      "std          0.380150  \n",
      "min          0.000000  \n",
      "25%          1.000000  \n",
      "50%          1.000000  \n",
      "75%          1.000000  \n",
      "max          1.000000  \n"
     ]
    }
   ],
   "source": [
    "print(\"TRAIN STATISTICAL INFO:\\n\",train_data.describe(),\"\\n\",\"TEST STATISTICAL INFO:\\n\",test_data.describe())"
   ]
  },
  {
   "cell_type": "markdown",
   "metadata": {},
   "source": [
    "### CHECKING MISSING DATA OF TRAIN AND TEST DATA"
   ]
  },
  {
   "cell_type": "code",
   "execution_count": 37,
   "metadata": {},
   "outputs": [
    {
     "name": "stdout",
     "output_type": "stream",
     "text": [
      "TRAIN MISSING DATA:\n",
      " Loan_ID               0\n",
      "Gender               13\n",
      "Married               3\n",
      "Dependents           15\n",
      "Education             0\n",
      "Self_Employed        32\n",
      "ApplicantIncome       0\n",
      "CoapplicantIncome     0\n",
      "LoanAmount           22\n",
      "Loan_Amount_Term     14\n",
      "Credit_History       50\n",
      "Property_Area         0\n",
      "Loan_Status           0\n",
      "dtype: int64 \n",
      " TEST MISSING DATA:\n",
      " Loan_ID               0\n",
      "Gender               11\n",
      "Married               0\n",
      "Dependents           10\n",
      "Education             0\n",
      "Self_Employed        23\n",
      "ApplicantIncome       0\n",
      "CoapplicantIncome     0\n",
      "LoanAmount            5\n",
      "Loan_Amount_Term      6\n",
      "Credit_History       29\n",
      "Property_Area         0\n",
      "dtype: int64\n"
     ]
    }
   ],
   "source": [
    "print(\"TRAIN MISSING DATA:\\n\",train_data.isnull().sum(),\"\\n\",\"TEST MISSING DATA:\\n\",test_data.isnull().sum())"
   ]
  },
  {
   "cell_type": "markdown",
   "metadata": {},
   "source": [
    "### HANDLING MISSING DATA IN TRAIN AND TEST DATA"
   ]
  },
  {
   "cell_type": "code",
   "execution_count": 38,
   "metadata": {},
   "outputs": [],
   "source": [
    "train_data['Gender'] = train_data[['Gender']].fillna(\"Male\")\n",
    "train_data['Married'] = train_data[['Married']].fillna(\"Yes\")\n",
    "train_data['Dependents'] = train_data[['Dependents']].fillna(\"0\")\n",
    "train_data['Self_Employed']=train_data[['Self_Employed']].fillna(\"No\")\n",
    "train_data['LoanAmount']=train_data[['LoanAmount']].fillna(train_data['LoanAmount'].mean())\n",
    "train_data['Loan_Amount_Term']=train_data['Loan_Amount_Term'].fillna(360.0)\n",
    "train_data['Credit_History']=train_data['Credit_History'].fillna(1.0)\n",
    "\n",
    "test_data['Gender'] = test_data[['Gender']].fillna(\"Male\")\n",
    "test_data['Dependents'] = test_data[['Dependents']].fillna(\"0\")\n",
    "test_data['Self_Employed']=test_data[['Self_Employed']].fillna(\"No\")\n",
    "test_data['LoanAmount']=test_data[['LoanAmount']].fillna(test_data['LoanAmount'].mean())\n",
    "test_data['Loan_Amount_Term']=test_data['Loan_Amount_Term'].fillna(360.0)\n",
    "test_data['Credit_History']=test_data['Credit_History'].fillna(1.0)"
   ]
  },
  {
   "cell_type": "markdown",
   "metadata": {},
   "source": [
    "### OUTLIERS DETECTIONS  IN TRAIN AND TEST DATA"
   ]
  },
  {
   "cell_type": "code",
   "execution_count": 39,
   "metadata": {},
   "outputs": [
    {
     "data": {
      "text/plain": [
       "<matplotlib.axes._subplots.AxesSubplot at 0xc4759e8>"
      ]
     },
     "execution_count": 39,
     "metadata": {},
     "output_type": "execute_result"
    },
    {
     "data": {
      "image/png": "[encoded data removed]",
      "text/plain": [
       "<matplotlib.figure.Figure at 0xccbbf28>"
      ]
     },
     "metadata": {},
     "output_type": "display_data"
    }
   ],
   "source": [
    "# Outliers in Train Data\n",
    "df = pd.DataFrame(data = train_data, columns = ['ApplicantIncome','CoapplicantIncome'])\n",
    "sns.boxplot(x=\"variable\", y=\"value\", data=pd.melt(df))"
   ]
  },
  {
   "cell_type": "code",
   "execution_count": 40,
   "metadata": {},
   "outputs": [
    {
     "data": {
      "text/plain": [
       "<matplotlib.axes._subplots.AxesSubplot at 0xcd07b38>"
      ]
     },
     "execution_count": 40,
     "metadata": {},
     "output_type": "execute_result"
    },
    {
     "data": {
      "image/png": "[encoded data removed]",
      "text/plain": [
       "<matplotlib.figure.Figure at 0xc475f28>"
      ]
     },
     "metadata": {},
     "output_type": "display_data"
    }
   ],
   "source": [
    "# Outliers in Test Data\n",
    "dft = pd.DataFrame(data = test_data, columns = ['ApplicantIncome','CoapplicantIncome'])\n",
    "sns.boxplot(x=\"variable\", y=\"value\", data=pd.melt(dft))"
   ]
  },
  {
   "cell_type": "markdown",
   "metadata": {},
   "source": [
    "### OUTLIERS TREATMENT IN TRAIN AND TEST DATA"
   ]
  },
  {
   "cell_type": "code",
   "execution_count": 41,
   "metadata": {},
   "outputs": [],
   "source": [
    "# Function for capping the outliers to thier 5% and 95% Quantile\n",
    "def outliers(x):\n",
    "    q1=x.quantile(0.05)\n",
    "    q3=x.quantile(0.95)\n",
    "    IQR=q3-q1\n",
    "    low= q1-1.5*IQR\n",
    "    high= q3+1.5*IQR\n",
    "    #print(high)\n",
    "    return high"
   ]
  },
  {
   "cell_type": "code",
   "execution_count": 42,
   "metadata": {},
   "outputs": [],
   "source": [
    "# Capping outliers in train and test data for \"ApplicationIncome\"\n",
    "tr_app_inc_high=outliers(train_data['ApplicantIncome'])\n",
    "train_data.loc[train_data['ApplicantIncome']>int(tr_app_inc_high),'ApplicantIncome'] = int(tr_app_inc_high)\n",
    "\n",
    "te_app_inc_high=outliers(test_data['ApplicantIncome'])\n",
    "test_data.loc[test_data['ApplicantIncome']>int(te_app_inc_high),'ApplicantIncome'] = int(te_app_inc_high)"
   ]
  },
  {
   "cell_type": "code",
   "execution_count": 43,
   "metadata": {},
   "outputs": [],
   "source": [
    "# Capping outliers in train and test data for \"CoapplicantIncome\"\n",
    "tr_coapp_inc_high=outliers(train_data['CoapplicantIncome'])\n",
    "train_data.loc[train_data['CoapplicantIncome']>int(tr_coapp_inc_high),'CoapplicantIncome'] = int(tr_coapp_inc_high)\n",
    "\n",
    "te_coapp_inc_high=outliers(test_data['CoapplicantIncome'])\n",
    "test_data.loc[test_data['CoapplicantIncome']>int(te_coapp_inc_high),'CoapplicantIncome'] = int(te_coapp_inc_high)"
   ]
  },
  {
   "cell_type": "markdown",
   "metadata": {},
   "source": [
    "### DATA TREATMENT FOR \"Dependents\" COLUMN IN TRAIN AND TEST DATA"
   ]
  },
  {
   "cell_type": "markdown",
   "metadata": {},
   "source": [
    "Since there are rows in the \"Dependents\" column where 3+ is mentioned for customers with 3 and above 3 dependents. So it is better to normalise the data before giving it to the model."
   ]
  },
  {
   "cell_type": "code",
   "execution_count": 44,
   "metadata": {},
   "outputs": [],
   "source": [
    "train_data['Dependents'].replace(\"3+\",\"3\", inplace=True)\n",
    "test_data['Dependents'].replace(\"3+\",\"3\", inplace=True)"
   ]
  },
  {
   "cell_type": "markdown",
   "metadata": {},
   "source": [
    "### CHANGING THE DATATYPES OF COLUMNS IN TRAIN AND TEST DATA"
   ]
  },
  {
   "cell_type": "code",
   "execution_count": 45,
   "metadata": {},
   "outputs": [],
   "source": [
    "col_lis=['LoanAmount','Loan_Amount_Term','Credit_History','CoapplicantIncome']\n",
    "for i in col_lis:\n",
    "    train_data[i]=train_data[i].astype(int)\n",
    "    test_data[i]=test_data[i].astype(int)"
   ]
  },
  {
   "cell_type": "markdown",
   "metadata": {},
   "source": [
    "### LABEL ENCODING THE CATEGORICAL VARIABLES IN TRAIN AND TEST DATA"
   ]
  },
  {
   "cell_type": "code",
   "execution_count": 46,
   "metadata": {},
   "outputs": [],
   "source": [
    "from sklearn.preprocessing import LabelEncoder\n",
    "tr_lb_list=['Gender','Married','Dependents','Education','Self_Employed','Property_Area','Loan_Status']\n",
    "lb=LabelEncoder()\n",
    "\n",
    "for i in tr_lb_list:\n",
    "    train_data[i]=lb.fit_transform(train_data[i])\n",
    "    \n",
    "ts_lb_list=['Gender','Married','Dependents','Education','Self_Employed','Property_Area']\n",
    "for i in ts_lb_list:\n",
    "    test_data[i]=lb.fit_transform(test_data[i])"
   ]
  },
  {
   "cell_type": "markdown",
   "metadata": {},
   "source": [
    "### CORRELATION PLOT"
   ]
  },
  {
   "cell_type": "code",
   "execution_count": 47,
   "metadata": {},
   "outputs": [
    {
     "data": {
      "text/plain": [
       "<matplotlib.axes._subplots.AxesSubplot at 0xcd9b710>"
      ]
     },
     "execution_count": 47,
     "metadata": {},
     "output_type": "execute_result"
    },
    {
     "data": {
      "image/png": "[encoded data removed]",
      "text/plain": [
       "<matplotlib.figure.Figure at 0xcd24630>"
      ]
     },
     "metadata": {},
     "output_type": "display_data"
    }
   ],
   "source": [
    "fig, ax= plt.subplots(figsize=(20,20))\n",
    "sns.heatmap(train_data.corr(),annot=True)"
   ]
  },
  {
   "cell_type": "markdown",
   "metadata": {},
   "source": [
    "### PREPARING TRAINING AND TESTING DATA FOR MODEL"
   ]
  },
  {
   "cell_type": "code",
   "execution_count": 48,
   "metadata": {},
   "outputs": [],
   "source": [
    "X_train=train_data.drop(['Loan_Status','Loan_ID'], axis=1)"
   ]
  },
  {
   "cell_type": "code",
   "execution_count": 49,
   "metadata": {},
   "outputs": [],
   "source": [
    "y_train=train_data['Loan_Status']"
   ]
  },
  {
   "cell_type": "code",
   "execution_count": 50,
   "metadata": {},
   "outputs": [],
   "source": [
    "X_test=test_data.drop(['Loan_ID'], axis=1)"
   ]
  },
  {
   "cell_type": "code",
   "execution_count": 51,
   "metadata": {},
   "outputs": [
    {
     "name": "stdout",
     "output_type": "stream",
     "text": [
      "1    290\n",
      "0     77\n",
      "Name: outcome, dtype: int64\n"
     ]
    }
   ],
   "source": [
    "y_test=val_data['outcome']\n",
    "y_test=y_test.replace(\"Y\",1)\n",
    "y_test=y_test.replace(\"N\",0)\n",
    "print(y_test.value_counts())"
   ]
  },
  {
   "cell_type": "markdown",
   "metadata": {},
   "source": [
    "### LOGISTIC REGRESSION"
   ]
  },
  {
   "cell_type": "code",
   "execution_count": 52,
   "metadata": {},
   "outputs": [
    {
     "name": "stdout",
     "output_type": "stream",
     "text": [
      "Train classification_report: \n",
      "               precision    recall  f1-score   support\n",
      "\n",
      "           0       0.91      0.43      0.58       192\n",
      "           1       0.79      0.98      0.88       422\n",
      "\n",
      "   micro avg       0.81      0.81      0.81       614\n",
      "   macro avg       0.85      0.70      0.73       614\n",
      "weighted avg       0.83      0.81      0.78       614\n",
      "\n",
      "Test classification_report: \n",
      "               precision    recall  f1-score   support\n",
      "\n",
      "           0       0.98      0.75      0.85        77\n",
      "           1       0.94      1.00      0.97       290\n",
      "\n",
      "   micro avg       0.95      0.95      0.95       367\n",
      "   macro avg       0.96      0.87      0.91       367\n",
      "weighted avg       0.95      0.95      0.94       367\n",
      "\n",
      "Train confusion_matrix: \n",
      " [[ 82 110]\n",
      " [  8 414]]\n",
      "Test confusion_matrix: \n",
      " [[ 58  19]\n",
      " [  1 289]]\n",
      "Train Accuracy: 0.8078175895765473\n",
      "Test Accuracy: 0.9455040871934605\n",
      "Cross validated scores: [0.79365079 0.82539683 0.7704918  0.75409836 0.78688525 0.78688525\n",
      " 0.86885246 0.85245902 0.80327869 0.83606557]\n"
     ]
    }
   ],
   "source": [
    "from sklearn.linear_model import LogisticRegression\n",
    "from sklearn.metrics import confusion_matrix, classification_report\n",
    "from sklearn.model_selection import cross_val_score\n",
    "\n",
    "lr=LogisticRegression(random_state=1)\n",
    "lr_model=lr.fit(X_train,y_train)\n",
    "lr_pred=lr_model.predict(X_test)\n",
    "y_train_pred = lr_model.predict(X_train)\n",
    "\n",
    "print(\"Train classification_report: \\n\",classification_report(y_train, y_train_pred))\n",
    "print(\"Test classification_report: \\n\",classification_report(y_test,lr_pred))\n",
    "print(\"Train confusion_matrix: \\n\",confusion_matrix(y_train, y_train_pred))\n",
    "print(\"Test confusion_matrix: \\n\",confusion_matrix(y_test,lr_pred))\n",
    "print(\"Train Accuracy:\",lr_model.score(X_train,y_train))\n",
    "print(\"Test Accuracy:\",lr_model.score(X_test,y_test))\n",
    "\n",
    "scores = cross_val_score(lr, X_train,y_train, cv=10)\n",
    "print(\"Cross validated scores:\", scores)"
   ]
  },
  {
   "cell_type": "markdown",
   "metadata": {},
   "source": [
    "### RANDOM FOREST CLASSIFIER"
   ]
  },
  {
   "cell_type": "code",
   "execution_count": 53,
   "metadata": {},
   "outputs": [
    {
     "name": "stdout",
     "output_type": "stream",
     "text": [
      "Train classification_report: \n",
      "               precision    recall  f1-score   support\n",
      "\n",
      "           0       0.92      0.43      0.59       192\n",
      "           1       0.79      0.98      0.88       422\n",
      "\n",
      "   micro avg       0.81      0.81      0.81       614\n",
      "   macro avg       0.86      0.71      0.73       614\n",
      "weighted avg       0.83      0.81      0.79       614\n",
      "\n",
      "Test classification_report: \n",
      "               precision    recall  f1-score   support\n",
      "\n",
      "           0       0.98      0.75      0.85        77\n",
      "           1       0.94      1.00      0.97       290\n",
      "\n",
      "   micro avg       0.95      0.95      0.95       367\n",
      "   macro avg       0.96      0.87      0.91       367\n",
      "weighted avg       0.95      0.95      0.94       367\n",
      "\n",
      "Train confusion_matrix: \n",
      " [[ 83 109]\n",
      " [  7 415]]\n",
      "Test confusion_matrix: \n",
      " [[ 58  19]\n",
      " [  1 289]]\n",
      "Train Accuracy: \n",
      " 0.8110749185667753\n",
      "Test Accuracy: \n",
      " 0.9455040871934605\n",
      "Accuracy:\n",
      " 0.9455040871934605\n",
      "AUC:\n",
      " 0.8748992386923422\n"
     ]
    },
    {
     "data": {
      "image/png": "[encoded data removed]",
      "text/plain": [
       "<matplotlib.figure.Figure at 0xcd24da0>"
      ]
     },
     "metadata": {},
     "output_type": "display_data"
    },
    {
     "name": "stdout",
     "output_type": "stream",
     "text": [
      "Cross validated scores: [0.79365079 0.82539683 0.75409836 0.75409836 0.78688525 0.78688525\n",
      " 0.86885246 0.85245902 0.81967213 0.83606557]\n"
     ]
    }
   ],
   "source": [
    "from sklearn.ensemble import RandomForestClassifier\n",
    "from sklearn.metrics import confusion_matrix, classification_report,accuracy_score\n",
    "from sklearn.metrics import roc_curve, auc\n",
    "rf=RandomForestClassifier(random_state=1,max_depth=3)\n",
    "rf_model=rf.fit(X_train,y_train)\n",
    "rf_pred=rf_model.predict(X_test)\n",
    "tr_rf_pred=rf_model.predict(X_train)\n",
    "\n",
    "\n",
    "\n",
    "print(\"Train classification_report: \\n\",classification_report(y_train,tr_rf_pred))\n",
    "print(\"Test classification_report: \\n\",classification_report(y_test,rf_pred))\n",
    "print(\"Train confusion_matrix: \\n\",confusion_matrix(y_train,tr_rf_pred))\n",
    "print(\"Test confusion_matrix: \\n\",confusion_matrix(y_test,rf_pred))\n",
    "print(\"Train Accuracy: \\n\",rf_model.score(X_train,y_train))\n",
    "print(\"Test Accuracy: \\n\",rf_model.score(X_test,y_test))\n",
    "print(\"Accuracy:\\n\",accuracy_score(y_test, rf_pred))\n",
    "\n",
    "false_positive_rate, true_positive_rate, _ = roc_curve(y_test,rf_pred)\n",
    "roc_auc = auc(false_positive_rate, true_positive_rate)\n",
    "print(\"AUC:\\n\",roc_auc)\n",
    "\n",
    "plt.title('Receiver Operating Characteristic')\n",
    "plt.plot(false_positive_rate, true_positive_rate,color='darkorange', label = 'AUC = %0.2f' % roc_auc)\n",
    "plt.legend(loc = 'lower right')\n",
    "plt.plot([0, 1], [0, 1],color='navy',linestyle='--')\n",
    "plt.xlim([0, 1])\n",
    "plt.ylim([0, 1.05])\n",
    "plt.ylabel('True Positive Rate')\n",
    "plt.xlabel('False Positive Rate')\n",
    "plt.show()\n",
    "\n",
    "scores = cross_val_score(rf, X_train,y_train, cv=10)\n",
    "print(\"Cross validated scores:\", scores)"
   ]
  },
  {
   "cell_type": "markdown",
   "metadata": {},
   "source": [
    "### RANDOM FOREST PARAMETER TUNNING"
   ]
  },
  {
   "cell_type": "code",
   "execution_count": 54,
   "metadata": {},
   "outputs": [],
   "source": [
    "# from sklearn.model_selection import GridSearchCV\n",
    "# parameters = {'n_estimators':[100, 200, 400, 600], 'max_depth':[2, 4, 6], 'max_features': [2, 3, 4]}\n",
    "# rf=RandomForestClassifier(random_state=1)\n",
    "# clf = GridSearchCV(rf, parameters, cv=5)\n",
    "# clf.fit(X_train,y_train)\n",
    "# print(\"Best Estimators\\n:\",clf.best_estimator_)\n",
    "# print(\"Best Parameters\\n:\",clf.best_params_)"
   ]
  },
  {
   "cell_type": "markdown",
   "metadata": {},
   "source": [
    "### DECISION TREE CLASSIFIER"
   ]
  },
  {
   "cell_type": "code",
   "execution_count": 55,
   "metadata": {},
   "outputs": [
    {
     "name": "stdout",
     "output_type": "stream",
     "text": [
      "Train classification_report: \n",
      "               precision    recall  f1-score   support\n",
      "\n",
      "           0       0.92      0.45      0.60       192\n",
      "           1       0.80      0.98      0.88       422\n",
      "\n",
      "   micro avg       0.82      0.82      0.82       614\n",
      "   macro avg       0.86      0.72      0.74       614\n",
      "weighted avg       0.84      0.82      0.79       614\n",
      "\n",
      "Test classification_report: \n",
      "               precision    recall  f1-score   support\n",
      "\n",
      "           0       0.92      0.75      0.83        77\n",
      "           1       0.94      0.98      0.96       290\n",
      "\n",
      "   micro avg       0.93      0.93      0.93       367\n",
      "   macro avg       0.93      0.87      0.89       367\n",
      "weighted avg       0.93      0.93      0.93       367\n",
      "\n",
      "Train confusion_matrix: \n",
      " [[ 86 106]\n",
      " [  7 415]]\n",
      "Test confusion_matrix: \n",
      " [[ 58  19]\n",
      " [  5 285]]\n",
      "Train Accuracy: \n",
      " 0.8110749185667753\n",
      "Test Accuracy: \n",
      " 0.9455040871934605\n",
      "Accuracy:\n",
      " 0.9346049046321526\n",
      "AUC:\n",
      " 0.8680026869682043\n"
     ]
    },
    {
     "data": {
      "image/png": "[encoded data removed]",
      "text/plain": [
       "<matplotlib.figure.Figure at 0xd67c2e8>"
      ]
     },
     "metadata": {},
     "output_type": "display_data"
    },
    {
     "name": "stdout",
     "output_type": "stream",
     "text": [
      "Cross validated scores: [0.80952381 0.82539683 0.7704918  0.75409836 0.78688525 0.78688525\n",
      " 0.85245902 0.85245902 0.80327869 0.81967213]\n"
     ]
    }
   ],
   "source": [
    "from sklearn.tree import DecisionTreeClassifier\n",
    "from sklearn.metrics import confusion_matrix, classification_report,accuracy_score\n",
    "dt=DecisionTreeClassifier(random_state=1,max_depth=3)\n",
    "dt_model=dt.fit(X_train,y_train)\n",
    "dt_pred=dt_model.predict(X_test)\n",
    "tr_dt_pred=dt_model.predict(X_train)\n",
    "\n",
    "\n",
    "print(\"Train classification_report: \\n\",classification_report(y_train,tr_dt_pred))\n",
    "print(\"Test classification_report: \\n\",classification_report(y_test,dt_pred))\n",
    "print(\"Train confusion_matrix: \\n\",confusion_matrix(y_train,tr_dt_pred))\n",
    "print(\"Test confusion_matrix: \\n\",confusion_matrix(y_test,dt_pred))\n",
    "print(\"Train Accuracy: \\n\",rf_model.score(X_train,y_train))\n",
    "print(\"Test Accuracy: \\n\",rf_model.score(X_test,y_test))\n",
    "print(\"Accuracy:\\n\",accuracy_score(y_test, dt_pred))\n",
    "\n",
    "false_positive_rate, true_positive_rate, _ = roc_curve(y_test,dt_pred)\n",
    "roc_auc = auc(false_positive_rate, true_positive_rate)\n",
    "print(\"AUC:\\n\",roc_auc)\n",
    "\n",
    "plt.title('Receiver Operating Characteristic')\n",
    "plt.plot(false_positive_rate, true_positive_rate, 'b', label = 'AUC = %0.2f' % roc_auc)\n",
    "plt.legend(loc = 'lower right')\n",
    "plt.plot([0, 1], [0, 1],'r--')\n",
    "plt.xlim([0, 1])\n",
    "plt.ylim([0, 1.05])\n",
    "plt.ylabel('True Positive Rate')\n",
    "plt.xlabel('False Positive Rate')\n",
    "plt.show()\n",
    "\n",
    "scores = cross_val_score(dt, X_train,y_train, cv=10)\n",
    "print(\"Cross validated scores:\", scores)"
   ]
  },
  {
   "cell_type": "markdown",
   "metadata": {},
   "source": [
    "### DECESION TREE PARAMETER TUNNING"
   ]
  },
  {
   "cell_type": "code",
   "execution_count": 56,
   "metadata": {},
   "outputs": [],
   "source": [
    "# from sklearn.model_selection import GridSearchCV\n",
    "# parameters = {'max_depth':[2, 4, 6], 'max_features': [2, 3, 4]}\n",
    "# dt=DecisionTreeClassifier(random_state=1,max_depth=3)\n",
    "# dt_clf = GridSearchCV(dt, parameters, cv=5)\n",
    "# dt_clf.fit(X_train,y_train)\n",
    "# print(\"Best Estimators\\n:\",dt_clf.best_estimator_)\n",
    "# print(\"Best Parameters\\n:\",dt_clf.best_params_)"
   ]
  },
  {
   "cell_type": "markdown",
   "metadata": {},
   "source": [
    "### XGBoost CLASSIFIER"
   ]
  },
  {
   "cell_type": "code",
   "execution_count": 57,
   "metadata": {},
   "outputs": [
    {
     "name": "stdout",
     "output_type": "stream",
     "text": [
      "Train Classification Report:\n",
      "               precision    recall  f1-score   support\n",
      "\n",
      "           0       0.95      0.56      0.70       192\n",
      "           1       0.83      0.99      0.90       422\n",
      "\n",
      "   micro avg       0.85      0.85      0.85       614\n",
      "   macro avg       0.89      0.77      0.80       614\n",
      "weighted avg       0.87      0.85      0.84       614\n",
      "\n",
      "Test Classification Report:\n",
      "               precision    recall  f1-score   support\n",
      "\n",
      "           0       0.94      0.82      0.88        77\n",
      "           1       0.95      0.99      0.97       290\n",
      "\n",
      "   micro avg       0.95      0.95      0.95       367\n",
      "   macro avg       0.95      0.90      0.92       367\n",
      "weighted avg       0.95      0.95      0.95       367\n",
      "\n",
      "Train Confusion Matrix:\n",
      " [[107  85]\n",
      " [  6 416]]\n",
      "Test Confusion Matrix:\n",
      " [[ 63  14]\n",
      " [  4 286]]\n",
      "Train Accuracy:\n",
      " 0.8517915309446255\n",
      "Test Accuracy:\n",
      " 0.9509536784741145\n",
      "Accuracy:\n",
      " 0.9509536784741145\n",
      "AUC:\n",
      " 0.902194357366771\n"
     ]
    },
    {
     "data": {
      "image/png": "[encoded data removed]",
      "text/plain": [
       "<matplotlib.figure.Figure at 0xd6ec588>"
      ]
     },
     "metadata": {},
     "output_type": "display_data"
    },
    {
     "name": "stdout",
     "output_type": "stream",
     "text": [
      "Cross validated scores: [0.74603175 0.80952381 0.75409836 0.72131148 0.78688525 0.78688525\n",
      " 0.8852459  0.81967213 0.7704918  0.85245902]\n"
     ]
    }
   ],
   "source": [
    "# XGBoost \n",
    "from xgboost import XGBClassifier\n",
    "from sklearn.metrics import classification_report, confusion_matrix\n",
    "from sklearn.metrics import roc_curve, auc\n",
    "xgb = XGBClassifier(random_state=1)\n",
    "# n_estimators = 100 (default)\n",
    "# max_depth = 3 (default)\n",
    "xgb_model=xgb.fit(X_train,y_train)\n",
    "xgb_tr_pred=xgb_model.predict(X_train)\n",
    "xgb_ts_pred=xgb_model.predict(X_test)\n",
    "\n",
    "print(\"Train Classification Report:\\n\", classification_report(y_train,xgb_tr_pred))\n",
    "print(\"Test Classification Report:\\n\", classification_report(y_test,xgb_ts_pred))\n",
    "print(\"Train Confusion Matrix:\\n\", confusion_matrix(y_train,xgb_tr_pred))\n",
    "print(\"Test Confusion Matrix:\\n\", confusion_matrix(y_test,xgb_ts_pred))\n",
    "print(\"Train Accuracy:\\n\", xgb_model.score(X_train, y_train))\n",
    "print(\"Test Accuracy:\\n\", xgb_model.score(X_test,y_test))\n",
    "print(\"Accuracy:\\n\",accuracy_score(y_test, xgb_ts_pred))\n",
    "\n",
    "false_positive_rate, true_positive_rate, _ = roc_curve(y_test,xgb_ts_pred)\n",
    "roc_auc = auc(false_positive_rate, true_positive_rate)\n",
    "print(\"AUC:\\n\",roc_auc)\n",
    "\n",
    "plt.title('Receiver Operating Characteristic')\n",
    "plt.plot(false_positive_rate, true_positive_rate, 'b', label = 'AUC = %0.2f' % roc_auc)\n",
    "plt.legend(loc = 'lower right')\n",
    "plt.plot([0, 1], [0, 1],'r--')\n",
    "plt.xlim([0, 1])\n",
    "plt.ylim([0, 1.05])\n",
    "plt.ylabel('True Positive Rate')\n",
    "plt.xlabel('False Positive Rate')\n",
    "plt.show()\n",
    "\n",
    "scores = cross_val_score(xgb, X_train,y_train, cv=10)\n",
    "print(\"Cross validated scores:\", scores)"
   ]
  },
  {
   "cell_type": "code",
   "execution_count": null,
   "metadata": {},
   "outputs": [],
   "source": []
  },
  {
   "cell_type": "code",
   "execution_count": null,
   "metadata": {},
   "outputs": [],
   "source": []
  },
  {
   "cell_type": "code",
   "execution_count": null,
   "metadata": {},
   "outputs": [],
   "source": []
  },
  {
   "cell_type": "code",
   "execution_count": null,
   "metadata": {},
   "outputs": [],
   "source": []
  },
  {
   "cell_type": "code",
   "execution_count": null,
   "metadata": {},
   "outputs": [],
   "source": []
  }
 ],
 "metadata": {
  "kernelspec": {
   "display_name": "Python 3",
   "language": "python",
   "name": "python3"
  },
  "language_info": {
   "codemirror_mode": {
    "name": "ipython",
    "version": 3
   },
   "file_extension": ".py",
   "mimetype": "text/x-python",
   "name": "python",
   "nbconvert_exporter": "python",
   "pygments_lexer": "ipython3",
   "version": "3.6.4"
  }
 },
 "nbformat": 4,
 "nbformat_minor": 2
}
